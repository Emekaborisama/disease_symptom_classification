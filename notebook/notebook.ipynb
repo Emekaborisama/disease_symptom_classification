{
 "cells": [
  {
   "cell_type": "markdown",
   "source": "### Objective: \n\n\nImagine 63 year old Sara just started feeling a slight headache and a rise in temperature. She feels suddenly unwell with her symptoms and wants to assess what is wrong with her. All Sara knows at the moment is she might be coming up with malaria or the current outbreak of COVID 19. Sara starts to note down her symptoms and wants to enter her symptoms into an algorithm that takes her symptoms and any other necessary variables and predicts the closest disease she might have (Malaria or COVID-19).\n\n\nYour task is to design a machine learning tool to solve Sara's problem. Your tool should take the symptoms of 63 year old Sara and any other necessary variables your algorithm needs and output the diseases Sara is most likely to have starting with the closest first and descending in that order till the least illness Sara is most likely to have.\n\n### Task \n\n- Extract disease dataset from kaggle and train a multi classification model. \n\n#### Result \n\n\n- Should be a list of disease and their probabilities \n",
   "metadata": {
    "tags": [],
    "cell_id": "00000-6d9e0e73-ad54-40cf-8684-b9acccbb2e26",
    "deepnote_cell_type": "markdown"
   }
  },
  {
   "cell_type": "code",
   "metadata": {
    "tags": [],
    "cell_id": "00000-2d507567-36ff-4853-bcd2-ff0a531c9da8",
    "deepnote_to_be_reexecuted": false,
    "source_hash": "c412ec31",
    "execution_start": 1636907774277,
    "execution_millis": 24,
    "deepnote_cell_type": "code"
   },
   "source": "import pandas as pd\nimport numpy as np\n\n",
   "outputs": [],
   "execution_count": 1
  },
  {
   "cell_type": "markdown",
   "source": "import  disease  dataset downloaded from kaggle and Aniruddha-Tapas github ",
   "metadata": {
    "tags": [],
    "cell_id": "00002-a81b2674-0420-4cf0-ab32-c1e823d88589",
    "deepnote_cell_type": "markdown"
   }
  },
  {
   "cell_type": "code",
   "metadata": {
    "tags": [],
    "cell_id": "00001-cd9da82e-e559-4a1d-b715-d3c4f1b4301f",
    "deepnote_to_be_reexecuted": false,
    "source_hash": "2068792e",
    "execution_start": 1636907774333,
    "execution_millis": 530,
    "deepnote_cell_type": "code"
   },
   "source": "train = pd.read_csv('https://raw.githubusercontent.com/Aniruddha-Tapas/Predicting-Diseases-From-Symptoms/master/Manual-Data/Training.csv')\ntest = pd.read_csv('https://raw.githubusercontent.com/Aniruddha-Tapas/Predicting-Diseases-From-Symptoms/master/Manual-Data/Testing.csv')\n\n\ncovid_df = pd.read_csv('large_data.csv')\n",
   "outputs": [],
   "execution_count": 2
  },
  {
   "cell_type": "markdown",
   "source": "Find similar columns between covid and the rest, and merge them together",
   "metadata": {
    "tags": [],
    "cell_id": "00004-53180a48-c92f-48a9-8fb7-730ba8a41ba5",
    "deepnote_cell_type": "markdown"
   }
  },
  {
   "cell_type": "code",
   "metadata": {
    "tags": [],
    "cell_id": "00004-8601af43-6419-428b-a8c7-408564b6cb6d",
    "deepnote_to_be_reexecuted": false,
    "source_hash": "b623e53d",
    "execution_start": 1636907774897,
    "execution_millis": 25,
    "deepnote_cell_type": "code"
   },
   "source": "",
   "outputs": [],
   "execution_count": 2
  },
  {
   "cell_type": "code",
   "metadata": {
    "tags": [],
    "cell_id": "00002-f0e8eeb4-a5f6-4e1e-907f-fecd17931268",
    "deepnote_to_be_reexecuted": false,
    "source_hash": "b623e53d",
    "execution_start": 1636907774953,
    "execution_millis": 1329051,
    "deepnote_cell_type": "code"
   },
   "source": "",
   "outputs": [],
   "execution_count": 2
  },
  {
   "cell_type": "code",
   "metadata": {
    "tags": [],
    "cell_id": "00003-1c804c03-10d4-47d4-8659-6c23c4111beb",
    "deepnote_to_be_reexecuted": false,
    "source_hash": "9da12c75",
    "execution_start": 1636907775019,
    "execution_millis": 53,
    "deepnote_cell_type": "code"
   },
   "source": "l_df = pd.read_csv('large_data.csv')\n",
   "outputs": [],
   "execution_count": 3
  },
  {
   "cell_type": "code",
   "metadata": {
    "tags": [],
    "cell_id": "00004-073cf084-a0c2-4281-bbb4-dc6fe9ff69ae",
    "deepnote_to_be_reexecuted": false,
    "source_hash": "f090a567",
    "execution_start": 1636907775127,
    "execution_millis": 46,
    "deepnote_cell_type": "code"
   },
   "source": "l_df.columns = l_df.columns.str.lower()\nl_df.columns",
   "outputs": [
    {
     "output_type": "execute_result",
     "execution_count": 4,
     "data": {
      "text/plain": "Index(['cough', 'muscle_aches', 'tiredness', 'sore_throat', 'runny_nose',\n       'stuffy_nose', 'fever', 'nausea', 'vomiting', 'diarrhea',\n       'shortness_of_breath', 'difficulty_breathing', 'loss_of_taste',\n       'loss_of_smell', 'itchy_nose', 'itchy_eyes', 'itchy_mouth',\n       'itchy_inner_ear', 'sneezing', 'pink_eye', 'type'],\n      dtype='object')"
     },
     "metadata": {}
    }
   ],
   "execution_count": 4
  },
  {
   "cell_type": "code",
   "metadata": {
    "tags": [],
    "cell_id": "00004-48925c3b-65bf-4926-81b2-3d597e724df5",
    "deepnote_to_be_reexecuted": false,
    "source_hash": "130c3f20",
    "execution_start": 1636907775474,
    "execution_millis": 242,
    "deepnote_cell_type": "code"
   },
   "source": "#check for unique values\nl_df['label'].unique()",
   "outputs": [
    {
     "output_type": "error",
     "ename": "KeyError",
     "evalue": "'label'",
     "traceback": [
      "\u001b[0;31m---------------------------------------------------------------------------\u001b[0m",
      "\u001b[0;31mKeyError\u001b[0m                                  Traceback (most recent call last)",
      "\u001b[0;32m/shared-libs/python3.7/py/lib/python3.7/site-packages/pandas/core/indexes/base.py\u001b[0m in \u001b[0;36mget_loc\u001b[0;34m(self, key, method, tolerance)\u001b[0m\n\u001b[1;32m   3080\u001b[0m             \u001b[0;32mtry\u001b[0m\u001b[0;34m:\u001b[0m\u001b[0;34m\u001b[0m\u001b[0;34m\u001b[0m\u001b[0m\n\u001b[0;32m-> 3081\u001b[0;31m                 \u001b[0;32mreturn\u001b[0m \u001b[0mself\u001b[0m\u001b[0;34m.\u001b[0m\u001b[0m_engine\u001b[0m\u001b[0;34m.\u001b[0m\u001b[0mget_loc\u001b[0m\u001b[0;34m(\u001b[0m\u001b[0mcasted_key\u001b[0m\u001b[0;34m)\u001b[0m\u001b[0;34m\u001b[0m\u001b[0;34m\u001b[0m\u001b[0m\n\u001b[0m\u001b[1;32m   3082\u001b[0m             \u001b[0;32mexcept\u001b[0m \u001b[0mKeyError\u001b[0m \u001b[0;32mas\u001b[0m \u001b[0merr\u001b[0m\u001b[0;34m:\u001b[0m\u001b[0;34m\u001b[0m\u001b[0;34m\u001b[0m\u001b[0m\n",
      "\u001b[0;32mpandas/_libs/index.pyx\u001b[0m in \u001b[0;36mpandas._libs.index.IndexEngine.get_loc\u001b[0;34m()\u001b[0m\n",
      "\u001b[0;32mpandas/_libs/index.pyx\u001b[0m in \u001b[0;36mpandas._libs.index.IndexEngine.get_loc\u001b[0;34m()\u001b[0m\n",
      "\u001b[0;32mpandas/_libs/hashtable_class_helper.pxi\u001b[0m in \u001b[0;36mpandas._libs.hashtable.PyObjectHashTable.get_item\u001b[0;34m()\u001b[0m\n",
      "\u001b[0;32mpandas/_libs/hashtable_class_helper.pxi\u001b[0m in \u001b[0;36mpandas._libs.hashtable.PyObjectHashTable.get_item\u001b[0;34m()\u001b[0m\n",
      "\u001b[0;31mKeyError\u001b[0m: 'label'",
      "\nThe above exception was the direct cause of the following exception:\n",
      "\u001b[0;31mKeyError\u001b[0m                                  Traceback (most recent call last)",
      "\u001b[0;32m<ipython-input-5-81468e05e079>\u001b[0m in \u001b[0;36m<module>\u001b[0;34m\u001b[0m\n\u001b[1;32m      1\u001b[0m \u001b[0;31m#check for unique values\u001b[0m\u001b[0;34m\u001b[0m\u001b[0;34m\u001b[0m\u001b[0;34m\u001b[0m\u001b[0m\n\u001b[0;32m----> 2\u001b[0;31m \u001b[0ml_df\u001b[0m\u001b[0;34m[\u001b[0m\u001b[0;34m'label'\u001b[0m\u001b[0;34m]\u001b[0m\u001b[0;34m.\u001b[0m\u001b[0munique\u001b[0m\u001b[0;34m(\u001b[0m\u001b[0;34m)\u001b[0m\u001b[0;34m\u001b[0m\u001b[0;34m\u001b[0m\u001b[0m\n\u001b[0m",
      "\u001b[0;32m/shared-libs/python3.7/py/lib/python3.7/site-packages/pandas/core/frame.py\u001b[0m in \u001b[0;36m__getitem__\u001b[0;34m(self, key)\u001b[0m\n\u001b[1;32m   3022\u001b[0m             \u001b[0;32mif\u001b[0m \u001b[0mself\u001b[0m\u001b[0;34m.\u001b[0m\u001b[0mcolumns\u001b[0m\u001b[0;34m.\u001b[0m\u001b[0mnlevels\u001b[0m \u001b[0;34m>\u001b[0m \u001b[0;36m1\u001b[0m\u001b[0;34m:\u001b[0m\u001b[0;34m\u001b[0m\u001b[0;34m\u001b[0m\u001b[0m\n\u001b[1;32m   3023\u001b[0m                 \u001b[0;32mreturn\u001b[0m \u001b[0mself\u001b[0m\u001b[0;34m.\u001b[0m\u001b[0m_getitem_multilevel\u001b[0m\u001b[0;34m(\u001b[0m\u001b[0mkey\u001b[0m\u001b[0;34m)\u001b[0m\u001b[0;34m\u001b[0m\u001b[0;34m\u001b[0m\u001b[0m\n\u001b[0;32m-> 3024\u001b[0;31m             \u001b[0mindexer\u001b[0m \u001b[0;34m=\u001b[0m \u001b[0mself\u001b[0m\u001b[0;34m.\u001b[0m\u001b[0mcolumns\u001b[0m\u001b[0;34m.\u001b[0m\u001b[0mget_loc\u001b[0m\u001b[0;34m(\u001b[0m\u001b[0mkey\u001b[0m\u001b[0;34m)\u001b[0m\u001b[0;34m\u001b[0m\u001b[0;34m\u001b[0m\u001b[0m\n\u001b[0m\u001b[1;32m   3025\u001b[0m             \u001b[0;32mif\u001b[0m \u001b[0mis_integer\u001b[0m\u001b[0;34m(\u001b[0m\u001b[0mindexer\u001b[0m\u001b[0;34m)\u001b[0m\u001b[0;34m:\u001b[0m\u001b[0;34m\u001b[0m\u001b[0;34m\u001b[0m\u001b[0m\n\u001b[1;32m   3026\u001b[0m                 \u001b[0mindexer\u001b[0m \u001b[0;34m=\u001b[0m \u001b[0;34m[\u001b[0m\u001b[0mindexer\u001b[0m\u001b[0;34m]\u001b[0m\u001b[0;34m\u001b[0m\u001b[0;34m\u001b[0m\u001b[0m\n",
      "\u001b[0;32m/shared-libs/python3.7/py/lib/python3.7/site-packages/pandas/core/indexes/base.py\u001b[0m in \u001b[0;36mget_loc\u001b[0;34m(self, key, method, tolerance)\u001b[0m\n\u001b[1;32m   3081\u001b[0m                 \u001b[0;32mreturn\u001b[0m \u001b[0mself\u001b[0m\u001b[0;34m.\u001b[0m\u001b[0m_engine\u001b[0m\u001b[0;34m.\u001b[0m\u001b[0mget_loc\u001b[0m\u001b[0;34m(\u001b[0m\u001b[0mcasted_key\u001b[0m\u001b[0;34m)\u001b[0m\u001b[0;34m\u001b[0m\u001b[0;34m\u001b[0m\u001b[0m\n\u001b[1;32m   3082\u001b[0m             \u001b[0;32mexcept\u001b[0m \u001b[0mKeyError\u001b[0m \u001b[0;32mas\u001b[0m \u001b[0merr\u001b[0m\u001b[0;34m:\u001b[0m\u001b[0;34m\u001b[0m\u001b[0;34m\u001b[0m\u001b[0m\n\u001b[0;32m-> 3083\u001b[0;31m                 \u001b[0;32mraise\u001b[0m \u001b[0mKeyError\u001b[0m\u001b[0;34m(\u001b[0m\u001b[0mkey\u001b[0m\u001b[0;34m)\u001b[0m \u001b[0;32mfrom\u001b[0m \u001b[0merr\u001b[0m\u001b[0;34m\u001b[0m\u001b[0;34m\u001b[0m\u001b[0m\n\u001b[0m\u001b[1;32m   3084\u001b[0m \u001b[0;34m\u001b[0m\u001b[0m\n\u001b[1;32m   3085\u001b[0m         \u001b[0;32mif\u001b[0m \u001b[0mtolerance\u001b[0m \u001b[0;32mis\u001b[0m \u001b[0;32mnot\u001b[0m \u001b[0;32mNone\u001b[0m\u001b[0;34m:\u001b[0m\u001b[0;34m\u001b[0m\u001b[0;34m\u001b[0m\u001b[0m\n",
      "\u001b[0;31mKeyError\u001b[0m: 'label'"
     ]
    }
   ],
   "execution_count": 5
  },
  {
   "cell_type": "code",
   "metadata": {
    "tags": [],
    "cell_id": "00005-af36ad1a-2800-4b02-8e2c-64a6c9b98548",
    "deepnote_to_be_reexecuted": false,
    "source_hash": "b623e53d",
    "execution_start": 1636907776410,
    "execution_millis": 5,
    "deepnote_cell_type": "code"
   },
   "source": "",
   "outputs": [],
   "execution_count": 5
  },
  {
   "cell_type": "code",
   "metadata": {
    "tags": [],
    "cell_id": "00003-1d145042-795f-4e4e-aa74-e08c21546e77",
    "deepnote_to_be_reexecuted": false,
    "source_hash": "73aba26",
    "execution_start": 1636907776631,
    "execution_millis": 0,
    "deepnote_cell_type": "code"
   },
   "source": "#rename disease type to label\ntrain = train.rename(columns={'prognosis': 'label'})\n\ntrain['label'] = train['label'].str.lower()",
   "outputs": [],
   "execution_count": 6
  },
  {
   "cell_type": "code",
   "metadata": {
    "tags": [],
    "cell_id": "00004-4513cfe4-a073-4135-aa93-d7c03200ef63",
    "deepnote_to_be_reexecuted": false,
    "source_hash": "9fd104c9",
    "execution_start": 1636907776847,
    "execution_millis": 44,
    "deepnote_cell_type": "code"
   },
   "source": "#rename similar columns \n\nl_df = l_df.rename(columns={'type': 'label',\n 'tiredness':'fatigue', 'fever':'high_fever', 'shortness_of_breath':'breathlessness', \n 'sneezing':'continuous_sneezing','pink_eye':'redness_of_eyes'})\n\n\nl_df['label'] = l_df['label'].str.lower()",
   "outputs": [],
   "execution_count": 7
  },
  {
   "cell_type": "code",
   "metadata": {
    "tags": [],
    "cell_id": "00009-4bfb9e51-803b-45df-9808-91b0a005f5b1",
    "deepnote_to_be_reexecuted": false,
    "source_hash": "b623e53d",
    "execution_start": 1636907778022,
    "execution_millis": 3,
    "deepnote_cell_type": "code"
   },
   "source": "",
   "outputs": [],
   "execution_count": 7
  },
  {
   "cell_type": "code",
   "metadata": {
    "tags": [],
    "cell_id": "00009-6d52c047-f532-444e-8596-c5b140d19b3f",
    "deepnote_to_be_reexecuted": false,
    "source_hash": "5a5b57de",
    "execution_start": 1636907778227,
    "execution_millis": 46,
    "deepnote_cell_type": "code"
   },
   "source": "#merge both dataset\ndf = pd.concat([l_df, train], ignore_index=False)",
   "outputs": [],
   "execution_count": 8
  },
  {
   "cell_type": "code",
   "metadata": {
    "tags": [],
    "cell_id": "00005-b668f965-2b2d-43f0-9691-0a2becea2b0e",
    "deepnote_to_be_reexecuted": false,
    "source_hash": "3067cc2f",
    "execution_start": 1636907778554,
    "execution_millis": 45,
    "deepnote_cell_type": "code"
   },
   "source": "#fill missing values with 0 since 0 mean they dont feel any of the symptom \ndf = df.fillna(0)",
   "outputs": [],
   "execution_count": 9
  },
  {
   "cell_type": "code",
   "metadata": {
    "tags": [],
    "cell_id": "00012-ea86d258-2f00-4eaf-a619-15a449026cbe",
    "deepnote_to_be_reexecuted": false,
    "source_hash": "ee1b9815",
    "execution_start": 1636907779977,
    "execution_millis": 23,
    "deepnote_cell_type": "code"
   },
   "source": "#assign dependent and independent values\n\nX = df.drop('label', axis =1)\ny = df['label']",
   "outputs": [],
   "execution_count": 10
  },
  {
   "cell_type": "markdown",
   "source": "### Feature Selection \n\n\nusing multiple method and count the selected times for each feature",
   "metadata": {
    "tags": [],
    "cell_id": "00017-ea4e1109-e6e7-4a14-92c0-be040d758b1d",
    "deepnote_cell_type": "markdown"
   }
  },
  {
   "cell_type": "code",
   "metadata": {
    "tags": [],
    "cell_id": "00011-7a7e427b-73b0-49f8-9512-2bcd2f175c63",
    "deepnote_to_be_reexecuted": false,
    "source_hash": "dd1efc47",
    "execution_start": 1636909272135,
    "execution_millis": 4426,
    "deepnote_cell_type": "code"
   },
   "source": "\n\nfrom sklearn.feature_selection import SelectFromModel\nfrom sklearn.ensemble import RandomForestClassifier\n\nembeded_rf_selector = SelectFromModel(RandomForestClassifier(n_estimators=60), max_features=len(X.columns))\nembeded_rf_selector.fit(X, y)\n\nembeded_rf_support = embeded_rf_selector.get_support()\nembeded_rf_feature = X.loc[:,embeded_rf_support].columns.tolist()\nprint(str(len(embeded_rf_feature)), 'selected features')",
   "outputs": [
    {
     "name": "stdout",
     "text": "20 selected features\n",
     "output_type": "stream"
    }
   ],
   "execution_count": 22
  },
  {
   "cell_type": "code",
   "metadata": {
    "tags": [],
    "cell_id": "00013-7c6e31ab-78da-4233-b030-ee3ea5780e34",
    "deepnote_to_be_reexecuted": false,
    "source_hash": "c88d3ea7",
    "execution_start": 1636909276618,
    "execution_millis": 49945,
    "deepnote_cell_type": "code"
   },
   "source": "from sklearn.feature_selection import SelectKBest\nfrom sklearn.feature_selection import chi2\nfrom sklearn.preprocessing import MinMaxScaler\nX_norm = MinMaxScaler().fit_transform(X)\n\n\n\n\nfrom sklearn.feature_selection import SelectFromModel\nfrom sklearn.linear_model import LogisticRegression\n\nembeded_lr_selector = SelectFromModel(LogisticRegression(penalty=\"none\"), max_features=len(X.columns))\nembeded_lr_selector.fit(X_norm, y)\n\nembeded_lr_support = embeded_lr_selector.get_support()\nembeded_lr_feature = X.loc[:,embeded_lr_support].columns.tolist()\nprint(str(len(embeded_lr_feature)), 'selected features')",
   "outputs": [
    {
     "name": "stdout",
     "text": "42 selected features\n/shared-libs/python3.7/py/lib/python3.7/site-packages/sklearn/linear_model/_logistic.py:818: ConvergenceWarning: lbfgs failed to converge (status=1):\nSTOP: TOTAL NO. of ITERATIONS REACHED LIMIT.\n\nIncrease the number of iterations (max_iter) or scale the data as shown in:\n    https://scikit-learn.org/stable/modules/preprocessing.html\nPlease also refer to the documentation for alternative solver options:\n    https://scikit-learn.org/stable/modules/linear_model.html#logistic-regression\n  extra_warning_msg=_LOGISTIC_SOLVER_CONVERGENCE_MSG,\n",
     "output_type": "stream"
    }
   ],
   "execution_count": 23
  },
  {
   "cell_type": "code",
   "metadata": {
    "tags": [],
    "cell_id": "00014-31d93778-6f6d-4f94-a324-10511a4ed851",
    "deepnote_to_be_reexecuted": false,
    "source_hash": "509267d9",
    "execution_start": 1636907833473,
    "execution_millis": 9104,
    "deepnote_cell_type": "code"
   },
   "source": "!pip install lightgbm==3.3.1",
   "outputs": [
    {
     "name": "stdout",
     "text": "Requirement already satisfied: lightgbm==3.3.1 in /root/venv/lib/python3.7/site-packages (3.3.1)\nRequirement already satisfied: scikit-learn!=0.22.0 in /shared-libs/python3.7/py/lib/python3.7/site-packages (from lightgbm==3.3.1) (1.0.1)\nRequirement already satisfied: wheel in /usr/local/lib/python3.7/site-packages (from lightgbm==3.3.1) (0.37.0)\nRequirement already satisfied: numpy in /shared-libs/python3.7/py/lib/python3.7/site-packages (from lightgbm==3.3.1) (1.19.5)\nRequirement already satisfied: scipy in /shared-libs/python3.7/py/lib/python3.7/site-packages (from lightgbm==3.3.1) (1.7.2)\nRequirement already satisfied: joblib>=0.11 in /shared-libs/python3.7/py/lib/python3.7/site-packages (from scikit-learn!=0.22.0->lightgbm==3.3.1) (1.1.0)\nRequirement already satisfied: threadpoolctl>=2.0.0 in /shared-libs/python3.7/py/lib/python3.7/site-packages (from scikit-learn!=0.22.0->lightgbm==3.3.1) (3.0.0)\n\u001b[33mWARNING: You are using pip version 20.1.1; however, version 21.3.1 is available.\nYou should consider upgrading via the '/root/venv/bin/python -m pip install --upgrade pip' command.\u001b[0m\n",
     "output_type": "stream"
    }
   ],
   "execution_count": 13
  },
  {
   "cell_type": "code",
   "metadata": {
    "tags": [],
    "cell_id": "00014-dd442360-7a32-48b8-b391-ba96a3994267",
    "deepnote_to_be_reexecuted": false,
    "source_hash": "fce6f1b7",
    "execution_start": 1636909326573,
    "execution_millis": 918228,
    "deepnote_cell_type": "code"
   },
   "source": "from sklearn.feature_selection import SelectFromModel\nfrom lightgbm import LGBMClassifier\n\nlgbc=LGBMClassifier(n_estimators=500, learning_rate=0.01, num_leaves=32, colsample_bytree=0.2,\n            reg_alpha=3, reg_lambda=1, min_split_gain=0.01, min_child_weight=40)\n\nembeded_lgb_selector = SelectFromModel(lgbc, max_features=len(X.columns))\nembeded_lgb_selector.fit(X, y)\n\nembeded_lgb_support = embeded_lgb_selector.get_support()\nembeded_lgb_feature = X.loc[:,embeded_lgb_support].columns.tolist()\nprint(str(len(embeded_lgb_feature)), 'selected features')",
   "outputs": [
    {
     "name": "stdout",
     "text": "29 selected features\n",
     "output_type": "stream"
    }
   ],
   "execution_count": 24
  },
  {
   "cell_type": "code",
   "metadata": {
    "tags": [],
    "cell_id": "00016-2d2a3663-088b-46d8-80dc-e82691e41822",
    "deepnote_to_be_reexecuted": false,
    "source_hash": "a123735a",
    "execution_start": 1636910244800,
    "execution_millis": 0,
    "output_cleared": false,
    "deepnote_cell_type": "code"
   },
   "source": "feature_selection_df = pd.DataFrame({'Feature':list(X.columns),'Logistics':embeded_lr_support,\n                                    'Random Forest':embeded_rf_support, 'LightGBM':embeded_lgb_support})\n# count the selected times for each feature\nfeature_selection_df['Total'] = np.sum(feature_selection_df, axis=1)\n# display the top 100\nfeature_selection_df = feature_selection_df.sort_values(['Total','Feature'] , ascending=False)\nfeature_selection_df.index = range(1, len(feature_selection_df)+1)\nsel_fe = feature_selection_df.loc[feature_selection_df['Total'] == 3]\nsel_df_col= list(sel_fe['Feature'])",
   "outputs": [],
   "execution_count": 25
  },
  {
   "cell_type": "markdown",
   "source": "##### Best Features",
   "metadata": {
    "tags": [],
    "cell_id": "00023-16ecae85-0a32-49d7-9b8f-59b0afbeeb5b",
    "deepnote_cell_type": "markdown"
   }
  },
  {
   "cell_type": "code",
   "metadata": {
    "tags": [],
    "cell_id": "00017-499f1369-4ad7-4219-ae4d-4ddf1f3e7ade",
    "deepnote_to_be_reexecuted": false,
    "source_hash": "b623e53d",
    "execution_start": 1636910264975,
    "execution_millis": 0,
    "deepnote_cell_type": "code"
   },
   "source": "",
   "outputs": [],
   "execution_count": 26
  },
  {
   "cell_type": "markdown",
   "source": "#### reassign x and y values",
   "metadata": {
    "tags": [],
    "cell_id": "00025-d74b08c7-ff9d-4079-9463-631fb260e1c1",
    "deepnote_cell_type": "markdown"
   }
  },
  {
   "cell_type": "code",
   "metadata": {
    "tags": [],
    "cell_id": "00013-c549fddd-d317-4a40-8794-c0739a31efda",
    "deepnote_to_be_reexecuted": false,
    "source_hash": "9b63934e",
    "execution_start": 1636910271064,
    "execution_millis": 9,
    "deepnote_cell_type": "code"
   },
   "source": "X = df[sel_df_col]\ny = df['label']",
   "outputs": [],
   "execution_count": 27
  },
  {
   "cell_type": "markdown",
   "source": "split dataset",
   "metadata": {
    "tags": [],
    "cell_id": "00027-3e58e990-692e-4d41-bb73-f37efd9eff93",
    "deepnote_cell_type": "markdown"
   }
  },
  {
   "cell_type": "code",
   "metadata": {
    "tags": [],
    "cell_id": "00014-6d405220-3235-48d2-83d5-0aca659ff153",
    "deepnote_to_be_reexecuted": false,
    "source_hash": "e3391c22",
    "execution_start": 1636910272220,
    "execution_millis": 20,
    "deepnote_cell_type": "code"
   },
   "source": "\n\nfrom sklearn.model_selection import train_test_split\nx_train, x_test, y_train, y_test = train_test_split(X, y, test_size=0.2, random_state=32)",
   "outputs": [],
   "execution_count": 28
  },
  {
   "cell_type": "markdown",
   "source": "## Build Models",
   "metadata": {
    "tags": [],
    "cell_id": "00029-aeed301d-937c-4183-af23-6fde215239ff",
    "deepnote_to_be_reexecuted": false,
    "source_hash": "9da7b69e",
    "execution_start": 1636906445894,
    "deepnote_cell_type": "markdown"
   }
  },
  {
   "cell_type": "markdown",
   "source": "Random forest",
   "metadata": {
    "tags": [],
    "cell_id": "00029-7210bc9b-7505-4377-a562-d1af77e3eb07",
    "deepnote_cell_type": "markdown"
   }
  },
  {
   "cell_type": "code",
   "metadata": {
    "tags": [],
    "cell_id": "00015-fa1e6f28-92a8-4071-8d68-e62c70b5561d",
    "deepnote_to_be_reexecuted": false,
    "source_hash": "d24dd9da",
    "execution_start": 1636910274532,
    "execution_millis": 1107,
    "deepnote_cell_type": "code"
   },
   "source": "import matplotlib.pyplot as plt\nimport seaborn as sns\nfrom sklearn.ensemble import RandomForestClassifier\nfrom sklearn.metrics import classification_report, confusion_matrix",
   "outputs": [],
   "execution_count": 29
  },
  {
   "cell_type": "code",
   "metadata": {
    "tags": [],
    "cell_id": "00022-6a2fef82-6f88-403a-bd15-d72006da0ae8",
    "deepnote_to_be_reexecuted": false,
    "source_hash": "e7437933",
    "execution_start": 1636910275659,
    "execution_millis": 6501,
    "deepnote_cell_type": "code"
   },
   "source": "\n\nrfc = RandomForestClassifier()\nrfc.fit(x_train, y_train)\nresult = rfc.predict(x_test)\n#print(classification_report(y_true=y_test.values, y_pred=result))\n\nfrom sklearn import metrics\nfrom sklearn.metrics import accuracy_score\n\n\nresult_train = rfc.predict(x_train)\n\nprint('Train accuracy = {}'.format(\n        accuracy_score(result_train , y_train) * 100)\n     )\n\n\nresult_test = rfc.predict(x_test)\n\nprint('Test accuracy = {}'.format(\n        accuracy_score(result_test, y_test) * 100)\n     )\nf1_score = metrics.f1_score(result_train, y_train, average='weighted')\nprint(' F1 Train classification score: {}'.format(f1_score* 100))\n\n\nf1_score = metrics.f1_score(result_test, y_test, average='weighted')\nprint(' F1 Test classification score: {}'.format(f1_score* 100))",
   "outputs": [
    {
     "name": "stdout",
     "text": "Train accuracy = 89.49060711934781\nTest accuracy = 86.73417721518987\n F1 Train classification score: 91.15137552563422\n F1 Test classification score: 88.52693973023659\n",
     "output_type": "stream"
    }
   ],
   "execution_count": 30
  },
  {
   "cell_type": "markdown",
   "source": "RepeatedStratifiedKFold",
   "metadata": {
    "tags": [],
    "cell_id": "00033-ca3f2e08-c3bf-448c-aa3d-86cf45af3fe1",
    "deepnote_to_be_reexecuted": false,
    "source_hash": "5b465c03",
    "execution_start": 1636906445931,
    "deepnote_cell_type": "markdown"
   }
  },
  {
   "cell_type": "code",
   "metadata": {
    "tags": [],
    "cell_id": "00022-53850d8c-93ac-4590-bf59-f46fb31f0bc5",
    "deepnote_to_be_reexecuted": false,
    "source_hash": "8dd4a190",
    "execution_start": 1636905216395,
    "execution_millis": 39184,
    "deepnote_cell_type": "code"
   },
   "source": "from sklearn.model_selection import cross_val_score\nfrom sklearn.model_selection import RepeatedStratifiedKFold\n\nfrom numpy import mean\nfrom numpy import std\n# evaluate the model\ncv = RepeatedStratifiedKFold(n_splits=10, n_repeats=4, random_state=32)\nn_scores = cross_val_score(rfc,x_train, y_train,  cv=10, n_jobs=-1, error_score='raise')\n# report performance\nprint('Accuracy: %.3f (%.3f)' % (mean(n_scores), std(n_scores)))",
   "outputs": [
    {
     "name": "stdout",
     "text": "Accuracy: 0.849 (0.004)\n",
     "output_type": "stream"
    }
   ],
   "execution_count": null
  },
  {
   "cell_type": "code",
   "metadata": {
    "tags": [],
    "cell_id": "00015-f487e5f7-214d-477c-8dfe-be6144c685a9",
    "deepnote_to_be_reexecuted": false,
    "source_hash": "b623e53d",
    "execution_start": 1636905255577,
    "execution_millis": 0,
    "deepnote_cell_type": "code"
   },
   "source": "",
   "outputs": [],
   "execution_count": null
  },
  {
   "cell_type": "markdown",
   "source": "Feature importance\n\nCheck for the features with great impact to the model",
   "metadata": {
    "tags": [],
    "cell_id": "00036-8132624d-1ad0-46bf-ac72-b8befab80024",
    "deepnote_cell_type": "markdown"
   }
  },
  {
   "cell_type": "code",
   "metadata": {
    "tags": [],
    "cell_id": "00016-f5262692-36a3-4d13-bb70-75541992085d",
    "deepnote_to_be_reexecuted": false,
    "source_hash": "b0bfeb9e",
    "execution_start": 1636910300234,
    "execution_millis": 29,
    "deepnote_cell_type": "code"
   },
   "source": "rfcim = rfc.feature_importances_\nstd = np.std([tree.feature_importances_ for tree in rfc.estimators_], axis=0)",
   "outputs": [],
   "execution_count": 31
  },
  {
   "cell_type": "code",
   "metadata": {
    "tags": [],
    "cell_id": "00018-da028df4-1340-45d9-b312-358dae81f04c",
    "deepnote_to_be_reexecuted": false,
    "source_hash": "9ac43d90",
    "execution_start": 1636910303441,
    "execution_millis": 735,
    "deepnote_cell_type": "code"
   },
   "source": "\nforest_importances = pd.Series(rfcim, index=list(X.columns))\nfig_size = plt.rcParams[\"figure.figsize\"] #Get current size\nprint(\"Current size:\", fig_size)\nfig_size[1] = 5\nfig_size[0] =20\nplt.rcParams[\"figure.figsize\"] = fig_size\n\nfig, ax = plt.subplots()\nforest_importances.plot.bar(yerr=std, ax=ax)\nax.set_title(\"Feature importances\")\nax.set_ylabel(\"Mean decrease in impurity\")\nplt.autoscale(enable=True, axis='x', tight=True)#plt.axis('tight')\n\nplt.show()\n",
   "outputs": [
    {
     "name": "stdout",
     "text": "Current size: [6.0, 4.0]\n",
     "output_type": "stream"
    },
    {
     "data": {
      "text/plain": "<Figure size 1440x360 with 1 Axes>",
      "image/png": "[encoded data removed]"
     },
     "metadata": {
      "needs_background": "light",
      "image/png": {
       "width": 1173,
       "height": 406
      }
     },
     "output_type": "display_data"
    }
   ],
   "execution_count": 32
  },
  {
   "cell_type": "code",
   "metadata": {
    "tags": [],
    "cell_id": "00019-e3192821-e17f-4a65-9bf8-c5e8225e0606",
    "deepnote_to_be_reexecuted": false,
    "source_hash": "7b2012a8",
    "execution_start": 1636910309900,
    "execution_millis": 0,
    "deepnote_cell_type": "code"
   },
   "source": "#retrain with the important features\n\nretrain_features = forest_importances.loc[forest_importances >0.050]",
   "outputs": [],
   "execution_count": 33
  },
  {
   "cell_type": "code",
   "metadata": {
    "tags": [],
    "cell_id": "00019-3397a9fb-1ef4-48f4-a890-ab14b9e8f732",
    "deepnote_to_be_reexecuted": false,
    "source_hash": "df29951c",
    "execution_start": 1636910310267,
    "execution_millis": 0,
    "deepnote_cell_type": "code"
   },
   "source": "retrain_features_col = list(retrain_features.index)\n\n\nlabel = 'label'\nretrain_features_col.append(label)\n",
   "outputs": [],
   "execution_count": 34
  },
  {
   "cell_type": "code",
   "metadata": {
    "tags": [],
    "cell_id": "00021-dbc9eae1-cc4d-4da4-b7b5-d74471194caa",
    "deepnote_to_be_reexecuted": false,
    "source_hash": "c98c6c4",
    "execution_start": 1636910311787,
    "execution_millis": 3,
    "deepnote_cell_type": "code"
   },
   "source": "retrain_features_col",
   "outputs": [
    {
     "output_type": "execute_result",
     "execution_count": 35,
     "data": {
      "text/plain": "['vomiting',\n 'redness_of_eyes',\n 'nausea',\n 'high_fever',\n 'difficulty_breathing',\n 'diarrhea',\n 'breathlessness',\n 'label']"
     },
     "metadata": {}
    }
   ],
   "execution_count": 35
  },
  {
   "cell_type": "code",
   "metadata": {
    "tags": [],
    "cell_id": "00021-2e99dd0d-2886-4947-9c01-5c3c9876ba82",
    "deepnote_to_be_reexecuted": false,
    "source_hash": "6344a102",
    "execution_start": 1636910331051,
    "execution_millis": 1,
    "deepnote_cell_type": "code"
   },
   "source": "retrain_df = df[retrain_features_col]",
   "outputs": [],
   "execution_count": 36
  },
  {
   "cell_type": "code",
   "metadata": {
    "tags": [],
    "cell_id": "00022-3e52adea-4907-47fa-9a1a-e00360df0d02",
    "deepnote_to_be_reexecuted": false,
    "source_hash": "63f73e49",
    "execution_start": 1636910331454,
    "execution_millis": 79,
    "output_cleared": false,
    "deepnote_cell_type": "code"
   },
   "source": "retrain_df.loc[retrain_df['label'] =='malaria']",
   "outputs": [
    {
     "output_type": "execute_result",
     "execution_count": 37,
     "data": {
      "application/vnd.deepnote.dataframe.v2+json": {
       "row_count": 120,
       "column_count": 8,
       "columns": [
        {
         "name": "vomiting",
         "dtype": "int64",
         "stats": {
          "unique_count": 2,
          "nan_count": 0,
          "min": "0",
          "max": "1",
          "histogram": [
           {
            "bin_start": 0,
            "bin_end": 0.1,
            "count": 6
           },
           {
            "bin_start": 0.1,
            "bin_end": 0.2,
            "count": 0
           },
           {
            "bin_start": 0.2,
            "bin_end": 0.30000000000000004,
            "count": 0
           },
           {
            "bin_start": 0.30000000000000004,
            "bin_end": 0.4,
            "count": 0
           },
           {
            "bin_start": 0.4,
            "bin_end": 0.5,
            "count": 0
           },
           {
            "bin_start": 0.5,
            "bin_end": 0.6000000000000001,
            "count": 0
           },
           {
            "bin_start": 0.6000000000000001,
            "bin_end": 0.7000000000000001,
            "count": 0
           },
           {
            "bin_start": 0.7000000000000001,
            "bin_end": 0.8,
            "count": 0
           },
           {
            "bin_start": 0.8,
            "bin_end": 0.9,
            "count": 0
           },
           {
            "bin_start": 0.9,
            "bin_end": 1,
            "count": 114
           }
          ]
         }
        },
        {
         "name": "redness_of_eyes",
         "dtype": "int64",
         "stats": {
          "unique_count": 1,
          "nan_count": 0,
          "min": "0",
          "max": "0",
          "histogram": [
           {
            "bin_start": -0.5,
            "bin_end": -0.4,
            "count": 0
           },
           {
            "bin_start": -0.4,
            "bin_end": -0.3,
            "count": 0
           },
           {
            "bin_start": -0.3,
            "bin_end": -0.19999999999999996,
            "count": 0
           },
           {
            "bin_start": -0.19999999999999996,
            "bin_end": -0.09999999999999998,
            "count": 0
           },
           {
            "bin_start": -0.09999999999999998,
            "bin_end": 0,
            "count": 0
           },
           {
            "bin_start": 0,
            "bin_end": 0.10000000000000009,
            "count": 120
           },
           {
            "bin_start": 0.10000000000000009,
            "bin_end": 0.20000000000000007,
            "count": 0
           },
           {
            "bin_start": 0.20000000000000007,
            "bin_end": 0.30000000000000004,
            "count": 0
           },
           {
            "bin_start": 0.30000000000000004,
            "bin_end": 0.4,
            "count": 0
           },
           {
            "bin_start": 0.4,
            "bin_end": 0.5,
            "count": 0
           }
          ]
         }
        },
        {
         "name": "nausea",
         "dtype": "int64",
         "stats": {
          "unique_count": 2,
          "nan_count": 0,
          "min": "0",
          "max": "1",
          "histogram": [
           {
            "bin_start": 0,
            "bin_end": 0.1,
            "count": 6
           },
           {
            "bin_start": 0.1,
            "bin_end": 0.2,
            "count": 0
           },
           {
            "bin_start": 0.2,
            "bin_end": 0.30000000000000004,
            "count": 0
           },
           {
            "bin_start": 0.30000000000000004,
            "bin_end": 0.4,
            "count": 0
           },
           {
            "bin_start": 0.4,
            "bin_end": 0.5,
            "count": 0
           },
           {
            "bin_start": 0.5,
            "bin_end": 0.6000000000000001,
            "count": 0
           },
           {
            "bin_start": 0.6000000000000001,
            "bin_end": 0.7000000000000001,
            "count": 0
           },
           {
            "bin_start": 0.7000000000000001,
            "bin_end": 0.8,
            "count": 0
           },
           {
            "bin_start": 0.8,
            "bin_end": 0.9,
            "count": 0
           },
           {
            "bin_start": 0.9,
            "bin_end": 1,
            "count": 114
           }
          ]
         }
        },
        {
         "name": "high_fever",
         "dtype": "int64",
         "stats": {
          "unique_count": 2,
          "nan_count": 0,
          "min": "0",
          "max": "1",
          "histogram": [
           {
            "bin_start": 0,
            "bin_end": 0.1,
            "count": 6
           },
           {
            "bin_start": 0.1,
            "bin_end": 0.2,
            "count": 0
           },
           {
            "bin_start": 0.2,
            "bin_end": 0.30000000000000004,
            "count": 0
           },
           {
            "bin_start": 0.30000000000000004,
            "bin_end": 0.4,
            "count": 0
           },
           {
            "bin_start": 0.4,
            "bin_end": 0.5,
            "count": 0
           },
           {
            "bin_start": 0.5,
            "bin_end": 0.6000000000000001,
            "count": 0
           },
           {
            "bin_start": 0.6000000000000001,
            "bin_end": 0.7000000000000001,
            "count": 0
           },
           {
            "bin_start": 0.7000000000000001,
            "bin_end": 0.8,
            "count": 0
           },
           {
            "bin_start": 0.8,
            "bin_end": 0.9,
            "count": 0
           },
           {
            "bin_start": 0.9,
            "bin_end": 1,
            "count": 114
           }
          ]
         }
        },
        {
         "name": "difficulty_breathing",
         "dtype": "float64",
         "stats": {
          "unique_count": 1,
          "nan_count": 0,
          "min": "0.0",
          "max": "0.0",
          "histogram": [
           {
            "bin_start": -0.5,
            "bin_end": -0.4,
            "count": 0
           },
           {
            "bin_start": -0.4,
            "bin_end": -0.3,
            "count": 0
           },
           {
            "bin_start": -0.3,
            "bin_end": -0.19999999999999996,
            "count": 0
           },
           {
            "bin_start": -0.19999999999999996,
            "bin_end": -0.09999999999999998,
            "count": 0
           },
           {
            "bin_start": -0.09999999999999998,
            "bin_end": 0,
            "count": 0
           },
           {
            "bin_start": 0,
            "bin_end": 0.10000000000000009,
            "count": 120
           },
           {
            "bin_start": 0.10000000000000009,
            "bin_end": 0.20000000000000007,
            "count": 0
           },
           {
            "bin_start": 0.20000000000000007,
            "bin_end": 0.30000000000000004,
            "count": 0
           },
           {
            "bin_start": 0.30000000000000004,
            "bin_end": 0.4,
            "count": 0
           },
           {
            "bin_start": 0.4,
            "bin_end": 0.5,
            "count": 0
           }
          ]
         }
        },
        {
         "name": "diarrhea",
         "dtype": "float64",
         "stats": {
          "unique_count": 1,
          "nan_count": 0,
          "min": "0.0",
          "max": "0.0",
          "histogram": [
           {
            "bin_start": -0.5,
            "bin_end": -0.4,
            "count": 0
           },
           {
            "bin_start": -0.4,
            "bin_end": -0.3,
            "count": 0
           },
           {
            "bin_start": -0.3,
            "bin_end": -0.19999999999999996,
            "count": 0
           },
           {
            "bin_start": -0.19999999999999996,
            "bin_end": -0.09999999999999998,
            "count": 0
           },
           {
            "bin_start": -0.09999999999999998,
            "bin_end": 0,
            "count": 0
           },
           {
            "bin_start": 0,
            "bin_end": 0.10000000000000009,
            "count": 120
           },
           {
            "bin_start": 0.10000000000000009,
            "bin_end": 0.20000000000000007,
            "count": 0
           },
           {
            "bin_start": 0.20000000000000007,
            "bin_end": 0.30000000000000004,
            "count": 0
           },
           {
            "bin_start": 0.30000000000000004,
            "bin_end": 0.4,
            "count": 0
           },
           {
            "bin_start": 0.4,
            "bin_end": 0.5,
            "count": 0
           }
          ]
         }
        },
        {
         "name": "breathlessness",
         "dtype": "int64",
         "stats": {
          "unique_count": 1,
          "nan_count": 0,
          "min": "0",
          "max": "0",
          "histogram": [
           {
            "bin_start": -0.5,
            "bin_end": -0.4,
            "count": 0
           },
           {
            "bin_start": -0.4,
            "bin_end": -0.3,
            "count": 0
           },
           {
            "bin_start": -0.3,
            "bin_end": -0.19999999999999996,
            "count": 0
           },
           {
            "bin_start": -0.19999999999999996,
            "bin_end": -0.09999999999999998,
            "count": 0
           },
           {
            "bin_start": -0.09999999999999998,
            "bin_end": 0,
            "count": 0
           },
           {
            "bin_start": 0,
            "bin_end": 0.10000000000000009,
            "count": 120
           },
           {
            "bin_start": 0.10000000000000009,
            "bin_end": 0.20000000000000007,
            "count": 0
           },
           {
            "bin_start": 0.20000000000000007,
            "bin_end": 0.30000000000000004,
            "count": 0
           },
           {
            "bin_start": 0.30000000000000004,
            "bin_end": 0.4,
            "count": 0
           },
           {
            "bin_start": 0.4,
            "bin_end": 0.5,
            "count": 0
           }
          ]
         }
        },
        {
         "name": "label",
         "dtype": "object",
         "stats": {
          "unique_count": 1,
          "nan_count": 0,
          "categories": [
           {
            "name": "malaria",
            "count": 120
           }
          ]
         }
        },
        {
         "name": "_deepnote_index_column",
         "dtype": "int64"
        }
       ],
       "rows_top": [
        {
         "vomiting": 1,
         "redness_of_eyes": 0,
         "nausea": 1,
         "high_fever": 1,
         "difficulty_breathing": 0,
         "diarrhea": 0,
         "breathlessness": 0,
         "label": "malaria",
         "_deepnote_index_column": 150
        },
        {
         "vomiting": 1,
         "redness_of_eyes": 0,
         "nausea": 1,
         "high_fever": 1,
         "difficulty_breathing": 0,
         "diarrhea": 0,
         "breathlessness": 0,
         "label": "malaria",
         "_deepnote_index_column": 151
        },
        {
         "vomiting": 1,
         "redness_of_eyes": 0,
         "nausea": 1,
         "high_fever": 1,
         "difficulty_breathing": 0,
         "diarrhea": 0,
         "breathlessness": 0,
         "label": "malaria",
         "_deepnote_index_column": 152
        },
        {
         "vomiting": 1,
         "redness_of_eyes": 0,
         "nausea": 1,
         "high_fever": 1,
         "difficulty_breathing": 0,
         "diarrhea": 0,
         "breathlessness": 0,
         "label": "malaria",
         "_deepnote_index_column": 153
        },
        {
         "vomiting": 0,
         "redness_of_eyes": 0,
         "nausea": 1,
         "high_fever": 1,
         "difficulty_breathing": 0,
         "diarrhea": 0,
         "breathlessness": 0,
         "label": "malaria",
         "_deepnote_index_column": 154
        },
        {
         "vomiting": 1,
         "redness_of_eyes": 0,
         "nausea": 1,
         "high_fever": 0,
         "difficulty_breathing": 0,
         "diarrhea": 0,
         "breathlessness": 0,
         "label": "malaria",
         "_deepnote_index_column": 155
        },
        {
         "vomiting": 1,
         "redness_of_eyes": 0,
         "nausea": 1,
         "high_fever": 1,
         "difficulty_breathing": 0,
         "diarrhea": 0,
         "breathlessness": 0,
         "label": "malaria",
         "_deepnote_index_column": 156
        },
        {
         "vomiting": 1,
         "redness_of_eyes": 0,
         "nausea": 1,
         "high_fever": 1,
         "difficulty_breathing": 0,
         "diarrhea": 0,
         "breathlessness": 0,
         "label": "malaria",
         "_deepnote_index_column": 157
        },
        {
         "vomiting": 1,
         "redness_of_eyes": 0,
         "nausea": 0,
         "high_fever": 1,
         "difficulty_breathing": 0,
         "diarrhea": 0,
         "breathlessness": 0,
         "label": "malaria",
         "_deepnote_index_column": 158
        },
        {
         "vomiting": 1,
         "redness_of_eyes": 0,
         "nausea": 1,
         "high_fever": 1,
         "difficulty_breathing": 0,
         "diarrhea": 0,
         "breathlessness": 0,
         "label": "malaria",
         "_deepnote_index_column": 159
        },
        {
         "vomiting": 1,
         "redness_of_eyes": 0,
         "nausea": 1,
         "high_fever": 1,
         "difficulty_breathing": 0,
         "diarrhea": 0,
         "breathlessness": 0,
         "label": "malaria",
         "_deepnote_index_column": 560
        },
        {
         "vomiting": 1,
         "redness_of_eyes": 0,
         "nausea": 1,
         "high_fever": 1,
         "difficulty_breathing": 0,
         "diarrhea": 0,
         "breathlessness": 0,
         "label": "malaria",
         "_deepnote_index_column": 561
        },
        {
         "vomiting": 1,
         "redness_of_eyes": 0,
         "nausea": 1,
         "high_fever": 1,
         "difficulty_breathing": 0,
         "diarrhea": 0,
         "breathlessness": 0,
         "label": "malaria",
         "_deepnote_index_column": 562
        },
        {
         "vomiting": 1,
         "redness_of_eyes": 0,
         "nausea": 1,
         "high_fever": 1,
         "difficulty_breathing": 0,
         "diarrhea": 0,
         "breathlessness": 0,
         "label": "malaria",
         "_deepnote_index_column": 563
        },
        {
         "vomiting": 0,
         "redness_of_eyes": 0,
         "nausea": 1,
         "high_fever": 1,
         "difficulty_breathing": 0,
         "diarrhea": 0,
         "breathlessness": 0,
         "label": "malaria",
         "_deepnote_index_column": 564
        },
        {
         "vomiting": 1,
         "redness_of_eyes": 0,
         "nausea": 1,
         "high_fever": 0,
         "difficulty_breathing": 0,
         "diarrhea": 0,
         "breathlessness": 0,
         "label": "malaria",
         "_deepnote_index_column": 565
        },
        {
         "vomiting": 1,
         "redness_of_eyes": 0,
         "nausea": 1,
         "high_fever": 1,
         "difficulty_breathing": 0,
         "diarrhea": 0,
         "breathlessness": 0,
         "label": "malaria",
         "_deepnote_index_column": 566
        },
        {
         "vomiting": 1,
         "redness_of_eyes": 0,
         "nausea": 1,
         "high_fever": 1,
         "difficulty_breathing": 0,
         "diarrhea": 0,
         "breathlessness": 0,
         "label": "malaria",
         "_deepnote_index_column": 567
        },
        {
         "vomiting": 1,
         "redness_of_eyes": 0,
         "nausea": 0,
         "high_fever": 1,
         "difficulty_breathing": 0,
         "diarrhea": 0,
         "breathlessness": 0,
         "label": "malaria",
         "_deepnote_index_column": 568
        },
        {
         "vomiting": 1,
         "redness_of_eyes": 0,
         "nausea": 1,
         "high_fever": 1,
         "difficulty_breathing": 0,
         "diarrhea": 0,
         "breathlessness": 0,
         "label": "malaria",
         "_deepnote_index_column": 569
        },
        {
         "vomiting": 1,
         "redness_of_eyes": 0,
         "nausea": 1,
         "high_fever": 1,
         "difficulty_breathing": 0,
         "diarrhea": 0,
         "breathlessness": 0,
         "label": "malaria",
         "_deepnote_index_column": 970
        },
        {
         "vomiting": 1,
         "redness_of_eyes": 0,
         "nausea": 1,
         "high_fever": 1,
         "difficulty_breathing": 0,
         "diarrhea": 0,
         "breathlessness": 0,
         "label": "malaria",
         "_deepnote_index_column": 971
        },
        {
         "vomiting": 1,
         "redness_of_eyes": 0,
         "nausea": 1,
         "high_fever": 1,
         "difficulty_breathing": 0,
         "diarrhea": 0,
         "breathlessness": 0,
         "label": "malaria",
         "_deepnote_index_column": 972
        },
        {
         "vomiting": 1,
         "redness_of_eyes": 0,
         "nausea": 1,
         "high_fever": 1,
         "difficulty_breathing": 0,
         "diarrhea": 0,
         "breathlessness": 0,
         "label": "malaria",
         "_deepnote_index_column": 973
        },
        {
         "vomiting": 0,
         "redness_of_eyes": 0,
         "nausea": 1,
         "high_fever": 1,
         "difficulty_breathing": 0,
         "diarrhea": 0,
         "breathlessness": 0,
         "label": "malaria",
         "_deepnote_index_column": 974
        },
        {
         "vomiting": 1,
         "redness_of_eyes": 0,
         "nausea": 1,
         "high_fever": 0,
         "difficulty_breathing": 0,
         "diarrhea": 0,
         "breathlessness": 0,
         "label": "malaria",
         "_deepnote_index_column": 975
        },
        {
         "vomiting": 1,
         "redness_of_eyes": 0,
         "nausea": 1,
         "high_fever": 1,
         "difficulty_breathing": 0,
         "diarrhea": 0,
         "breathlessness": 0,
         "label": "malaria",
         "_deepnote_index_column": 976
        },
        {
         "vomiting": 1,
         "redness_of_eyes": 0,
         "nausea": 1,
         "high_fever": 1,
         "difficulty_breathing": 0,
         "diarrhea": 0,
         "breathlessness": 0,
         "label": "malaria",
         "_deepnote_index_column": 977
        },
        {
         "vomiting": 1,
         "redness_of_eyes": 0,
         "nausea": 0,
         "high_fever": 1,
         "difficulty_breathing": 0,
         "diarrhea": 0,
         "breathlessness": 0,
         "label": "malaria",
         "_deepnote_index_column": 978
        },
        {
         "vomiting": 1,
         "redness_of_eyes": 0,
         "nausea": 1,
         "high_fever": 1,
         "difficulty_breathing": 0,
         "diarrhea": 0,
         "breathlessness": 0,
         "label": "malaria",
         "_deepnote_index_column": 979
        },
        {
         "vomiting": 1,
         "redness_of_eyes": 0,
         "nausea": 1,
         "high_fever": 1,
         "difficulty_breathing": 0,
         "diarrhea": 0,
         "breathlessness": 0,
         "label": "malaria",
         "_deepnote_index_column": 1380
        },
        {
         "vomiting": 1,
         "redness_of_eyes": 0,
         "nausea": 1,
         "high_fever": 1,
         "difficulty_breathing": 0,
         "diarrhea": 0,
         "breathlessness": 0,
         "label": "malaria",
         "_deepnote_index_column": 1381
        },
        {
         "vomiting": 1,
         "redness_of_eyes": 0,
         "nausea": 1,
         "high_fever": 1,
         "difficulty_breathing": 0,
         "diarrhea": 0,
         "breathlessness": 0,
         "label": "malaria",
         "_deepnote_index_column": 1382
        },
        {
         "vomiting": 1,
         "redness_of_eyes": 0,
         "nausea": 1,
         "high_fever": 1,
         "difficulty_breathing": 0,
         "diarrhea": 0,
         "breathlessness": 0,
         "label": "malaria",
         "_deepnote_index_column": 1383
        },
        {
         "vomiting": 0,
         "redness_of_eyes": 0,
         "nausea": 1,
         "high_fever": 1,
         "difficulty_breathing": 0,
         "diarrhea": 0,
         "breathlessness": 0,
         "label": "malaria",
         "_deepnote_index_column": 1384
        },
        {
         "vomiting": 1,
         "redness_of_eyes": 0,
         "nausea": 1,
         "high_fever": 0,
         "difficulty_breathing": 0,
         "diarrhea": 0,
         "breathlessness": 0,
         "label": "malaria",
         "_deepnote_index_column": 1385
        },
        {
         "vomiting": 1,
         "redness_of_eyes": 0,
         "nausea": 1,
         "high_fever": 1,
         "difficulty_breathing": 0,
         "diarrhea": 0,
         "breathlessness": 0,
         "label": "malaria",
         "_deepnote_index_column": 1386
        },
        {
         "vomiting": 1,
         "redness_of_eyes": 0,
         "nausea": 1,
         "high_fever": 1,
         "difficulty_breathing": 0,
         "diarrhea": 0,
         "breathlessness": 0,
         "label": "malaria",
         "_deepnote_index_column": 1387
        },
        {
         "vomiting": 1,
         "redness_of_eyes": 0,
         "nausea": 0,
         "high_fever": 1,
         "difficulty_breathing": 0,
         "diarrhea": 0,
         "breathlessness": 0,
         "label": "malaria",
         "_deepnote_index_column": 1388
        },
        {
         "vomiting": 1,
         "redness_of_eyes": 0,
         "nausea": 1,
         "high_fever": 1,
         "difficulty_breathing": 0,
         "diarrhea": 0,
         "breathlessness": 0,
         "label": "malaria",
         "_deepnote_index_column": 1389
        },
        {
         "vomiting": 1,
         "redness_of_eyes": 0,
         "nausea": 1,
         "high_fever": 1,
         "difficulty_breathing": 0,
         "diarrhea": 0,
         "breathlessness": 0,
         "label": "malaria",
         "_deepnote_index_column": 1790
        },
        {
         "vomiting": 1,
         "redness_of_eyes": 0,
         "nausea": 1,
         "high_fever": 1,
         "difficulty_breathing": 0,
         "diarrhea": 0,
         "breathlessness": 0,
         "label": "malaria",
         "_deepnote_index_column": 1791
        },
        {
         "vomiting": 1,
         "redness_of_eyes": 0,
         "nausea": 1,
         "high_fever": 1,
         "difficulty_breathing": 0,
         "diarrhea": 0,
         "breathlessness": 0,
         "label": "malaria",
         "_deepnote_index_column": 1792
        },
        {
         "vomiting": 1,
         "redness_of_eyes": 0,
         "nausea": 1,
         "high_fever": 1,
         "difficulty_breathing": 0,
         "diarrhea": 0,
         "breathlessness": 0,
         "label": "malaria",
         "_deepnote_index_column": 1793
        },
        {
         "vomiting": 0,
         "redness_of_eyes": 0,
         "nausea": 1,
         "high_fever": 1,
         "difficulty_breathing": 0,
         "diarrhea": 0,
         "breathlessness": 0,
         "label": "malaria",
         "_deepnote_index_column": 1794
        },
        {
         "vomiting": 1,
         "redness_of_eyes": 0,
         "nausea": 1,
         "high_fever": 0,
         "difficulty_breathing": 0,
         "diarrhea": 0,
         "breathlessness": 0,
         "label": "malaria",
         "_deepnote_index_column": 1795
        },
        {
         "vomiting": 1,
         "redness_of_eyes": 0,
         "nausea": 1,
         "high_fever": 1,
         "difficulty_breathing": 0,
         "diarrhea": 0,
         "breathlessness": 0,
         "label": "malaria",
         "_deepnote_index_column": 1796
        },
        {
         "vomiting": 1,
         "redness_of_eyes": 0,
         "nausea": 1,
         "high_fever": 1,
         "difficulty_breathing": 0,
         "diarrhea": 0,
         "breathlessness": 0,
         "label": "malaria",
         "_deepnote_index_column": 1797
        },
        {
         "vomiting": 1,
         "redness_of_eyes": 0,
         "nausea": 0,
         "high_fever": 1,
         "difficulty_breathing": 0,
         "diarrhea": 0,
         "breathlessness": 0,
         "label": "malaria",
         "_deepnote_index_column": 1798
        },
        {
         "vomiting": 1,
         "redness_of_eyes": 0,
         "nausea": 1,
         "high_fever": 1,
         "difficulty_breathing": 0,
         "diarrhea": 0,
         "breathlessness": 0,
         "label": "malaria",
         "_deepnote_index_column": 1799
        },
        {
         "vomiting": 1,
         "redness_of_eyes": 0,
         "nausea": 1,
         "high_fever": 1,
         "difficulty_breathing": 0,
         "diarrhea": 0,
         "breathlessness": 0,
         "label": "malaria",
         "_deepnote_index_column": 2200
        },
        {
         "vomiting": 1,
         "redness_of_eyes": 0,
         "nausea": 1,
         "high_fever": 1,
         "difficulty_breathing": 0,
         "diarrhea": 0,
         "breathlessness": 0,
         "label": "malaria",
         "_deepnote_index_column": 2201
        },
        {
         "vomiting": 1,
         "redness_of_eyes": 0,
         "nausea": 1,
         "high_fever": 1,
         "difficulty_breathing": 0,
         "diarrhea": 0,
         "breathlessness": 0,
         "label": "malaria",
         "_deepnote_index_column": 2202
        },
        {
         "vomiting": 1,
         "redness_of_eyes": 0,
         "nausea": 1,
         "high_fever": 1,
         "difficulty_breathing": 0,
         "diarrhea": 0,
         "breathlessness": 0,
         "label": "malaria",
         "_deepnote_index_column": 2203
        },
        {
         "vomiting": 0,
         "redness_of_eyes": 0,
         "nausea": 1,
         "high_fever": 1,
         "difficulty_breathing": 0,
         "diarrhea": 0,
         "breathlessness": 0,
         "label": "malaria",
         "_deepnote_index_column": 2204
        },
        {
         "vomiting": 1,
         "redness_of_eyes": 0,
         "nausea": 1,
         "high_fever": 0,
         "difficulty_breathing": 0,
         "diarrhea": 0,
         "breathlessness": 0,
         "label": "malaria",
         "_deepnote_index_column": 2205
        },
        {
         "vomiting": 1,
         "redness_of_eyes": 0,
         "nausea": 1,
         "high_fever": 1,
         "difficulty_breathing": 0,
         "diarrhea": 0,
         "breathlessness": 0,
         "label": "malaria",
         "_deepnote_index_column": 2206
        },
        {
         "vomiting": 1,
         "redness_of_eyes": 0,
         "nausea": 1,
         "high_fever": 1,
         "difficulty_breathing": 0,
         "diarrhea": 0,
         "breathlessness": 0,
         "label": "malaria",
         "_deepnote_index_column": 2207
        },
        {
         "vomiting": 1,
         "redness_of_eyes": 0,
         "nausea": 0,
         "high_fever": 1,
         "difficulty_breathing": 0,
         "diarrhea": 0,
         "breathlessness": 0,
         "label": "malaria",
         "_deepnote_index_column": 2208
        },
        {
         "vomiting": 1,
         "redness_of_eyes": 0,
         "nausea": 1,
         "high_fever": 1,
         "difficulty_breathing": 0,
         "diarrhea": 0,
         "breathlessness": 0,
         "label": "malaria",
         "_deepnote_index_column": 2209
        },
        {
         "vomiting": 1,
         "redness_of_eyes": 0,
         "nausea": 1,
         "high_fever": 1,
         "difficulty_breathing": 0,
         "diarrhea": 0,
         "breathlessness": 0,
         "label": "malaria",
         "_deepnote_index_column": 2475
        },
        {
         "vomiting": 1,
         "redness_of_eyes": 0,
         "nausea": 1,
         "high_fever": 1,
         "difficulty_breathing": 0,
         "diarrhea": 0,
         "breathlessness": 0,
         "label": "malaria",
         "_deepnote_index_column": 2516
        },
        {
         "vomiting": 1,
         "redness_of_eyes": 0,
         "nausea": 1,
         "high_fever": 1,
         "difficulty_breathing": 0,
         "diarrhea": 0,
         "breathlessness": 0,
         "label": "malaria",
         "_deepnote_index_column": 2557
        },
        {
         "vomiting": 1,
         "redness_of_eyes": 0,
         "nausea": 1,
         "high_fever": 1,
         "difficulty_breathing": 0,
         "diarrhea": 0,
         "breathlessness": 0,
         "label": "malaria",
         "_deepnote_index_column": 2598
        },
        {
         "vomiting": 1,
         "redness_of_eyes": 0,
         "nausea": 1,
         "high_fever": 1,
         "difficulty_breathing": 0,
         "diarrhea": 0,
         "breathlessness": 0,
         "label": "malaria",
         "_deepnote_index_column": 2639
        },
        {
         "vomiting": 1,
         "redness_of_eyes": 0,
         "nausea": 1,
         "high_fever": 1,
         "difficulty_breathing": 0,
         "diarrhea": 0,
         "breathlessness": 0,
         "label": "malaria",
         "_deepnote_index_column": 2680
        },
        {
         "vomiting": 1,
         "redness_of_eyes": 0,
         "nausea": 1,
         "high_fever": 1,
         "difficulty_breathing": 0,
         "diarrhea": 0,
         "breathlessness": 0,
         "label": "malaria",
         "_deepnote_index_column": 2721
        },
        {
         "vomiting": 1,
         "redness_of_eyes": 0,
         "nausea": 1,
         "high_fever": 1,
         "difficulty_breathing": 0,
         "diarrhea": 0,
         "breathlessness": 0,
         "label": "malaria",
         "_deepnote_index_column": 2762
        },
        {
         "vomiting": 1,
         "redness_of_eyes": 0,
         "nausea": 1,
         "high_fever": 1,
         "difficulty_breathing": 0,
         "diarrhea": 0,
         "breathlessness": 0,
         "label": "malaria",
         "_deepnote_index_column": 2803
        },
        {
         "vomiting": 1,
         "redness_of_eyes": 0,
         "nausea": 1,
         "high_fever": 1,
         "difficulty_breathing": 0,
         "diarrhea": 0,
         "breathlessness": 0,
         "label": "malaria",
         "_deepnote_index_column": 2844
        },
        {
         "vomiting": 1,
         "redness_of_eyes": 0,
         "nausea": 1,
         "high_fever": 1,
         "difficulty_breathing": 0,
         "diarrhea": 0,
         "breathlessness": 0,
         "label": "malaria",
         "_deepnote_index_column": 2885
        },
        {
         "vomiting": 1,
         "redness_of_eyes": 0,
         "nausea": 1,
         "high_fever": 1,
         "difficulty_breathing": 0,
         "diarrhea": 0,
         "breathlessness": 0,
         "label": "malaria",
         "_deepnote_index_column": 2926
        },
        {
         "vomiting": 1,
         "redness_of_eyes": 0,
         "nausea": 1,
         "high_fever": 1,
         "difficulty_breathing": 0,
         "diarrhea": 0,
         "breathlessness": 0,
         "label": "malaria",
         "_deepnote_index_column": 2967
        },
        {
         "vomiting": 1,
         "redness_of_eyes": 0,
         "nausea": 1,
         "high_fever": 1,
         "difficulty_breathing": 0,
         "diarrhea": 0,
         "breathlessness": 0,
         "label": "malaria",
         "_deepnote_index_column": 3008
        },
        {
         "vomiting": 1,
         "redness_of_eyes": 0,
         "nausea": 1,
         "high_fever": 1,
         "difficulty_breathing": 0,
         "diarrhea": 0,
         "breathlessness": 0,
         "label": "malaria",
         "_deepnote_index_column": 3049
        },
        {
         "vomiting": 1,
         "redness_of_eyes": 0,
         "nausea": 1,
         "high_fever": 1,
         "difficulty_breathing": 0,
         "diarrhea": 0,
         "breathlessness": 0,
         "label": "malaria",
         "_deepnote_index_column": 3090
        },
        {
         "vomiting": 1,
         "redness_of_eyes": 0,
         "nausea": 1,
         "high_fever": 1,
         "difficulty_breathing": 0,
         "diarrhea": 0,
         "breathlessness": 0,
         "label": "malaria",
         "_deepnote_index_column": 3131
        },
        {
         "vomiting": 1,
         "redness_of_eyes": 0,
         "nausea": 1,
         "high_fever": 1,
         "difficulty_breathing": 0,
         "diarrhea": 0,
         "breathlessness": 0,
         "label": "malaria",
         "_deepnote_index_column": 3172
        },
        {
         "vomiting": 1,
         "redness_of_eyes": 0,
         "nausea": 1,
         "high_fever": 1,
         "difficulty_breathing": 0,
         "diarrhea": 0,
         "breathlessness": 0,
         "label": "malaria",
         "_deepnote_index_column": 3213
        },
        {
         "vomiting": 1,
         "redness_of_eyes": 0,
         "nausea": 1,
         "high_fever": 1,
         "difficulty_breathing": 0,
         "diarrhea": 0,
         "breathlessness": 0,
         "label": "malaria",
         "_deepnote_index_column": 3254
        },
        {
         "vomiting": 1,
         "redness_of_eyes": 0,
         "nausea": 1,
         "high_fever": 1,
         "difficulty_breathing": 0,
         "diarrhea": 0,
         "breathlessness": 0,
         "label": "malaria",
         "_deepnote_index_column": 3295
        },
        {
         "vomiting": 1,
         "redness_of_eyes": 0,
         "nausea": 1,
         "high_fever": 1,
         "difficulty_breathing": 0,
         "diarrhea": 0,
         "breathlessness": 0,
         "label": "malaria",
         "_deepnote_index_column": 3336
        },
        {
         "vomiting": 1,
         "redness_of_eyes": 0,
         "nausea": 1,
         "high_fever": 1,
         "difficulty_breathing": 0,
         "diarrhea": 0,
         "breathlessness": 0,
         "label": "malaria",
         "_deepnote_index_column": 3377
        },
        {
         "vomiting": 1,
         "redness_of_eyes": 0,
         "nausea": 1,
         "high_fever": 1,
         "difficulty_breathing": 0,
         "diarrhea": 0,
         "breathlessness": 0,
         "label": "malaria",
         "_deepnote_index_column": 3418
        },
        {
         "vomiting": 1,
         "redness_of_eyes": 0,
         "nausea": 1,
         "high_fever": 1,
         "difficulty_breathing": 0,
         "diarrhea": 0,
         "breathlessness": 0,
         "label": "malaria",
         "_deepnote_index_column": 3459
        },
        {
         "vomiting": 1,
         "redness_of_eyes": 0,
         "nausea": 1,
         "high_fever": 1,
         "difficulty_breathing": 0,
         "diarrhea": 0,
         "breathlessness": 0,
         "label": "malaria",
         "_deepnote_index_column": 3500
        },
        {
         "vomiting": 1,
         "redness_of_eyes": 0,
         "nausea": 1,
         "high_fever": 1,
         "difficulty_breathing": 0,
         "diarrhea": 0,
         "breathlessness": 0,
         "label": "malaria",
         "_deepnote_index_column": 3541
        },
        {
         "vomiting": 1,
         "redness_of_eyes": 0,
         "nausea": 1,
         "high_fever": 1,
         "difficulty_breathing": 0,
         "diarrhea": 0,
         "breathlessness": 0,
         "label": "malaria",
         "_deepnote_index_column": 3582
        },
        {
         "vomiting": 1,
         "redness_of_eyes": 0,
         "nausea": 1,
         "high_fever": 1,
         "difficulty_breathing": 0,
         "diarrhea": 0,
         "breathlessness": 0,
         "label": "malaria",
         "_deepnote_index_column": 3623
        },
        {
         "vomiting": 1,
         "redness_of_eyes": 0,
         "nausea": 1,
         "high_fever": 1,
         "difficulty_breathing": 0,
         "diarrhea": 0,
         "breathlessness": 0,
         "label": "malaria",
         "_deepnote_index_column": 3664
        },
        {
         "vomiting": 1,
         "redness_of_eyes": 0,
         "nausea": 1,
         "high_fever": 1,
         "difficulty_breathing": 0,
         "diarrhea": 0,
         "breathlessness": 0,
         "label": "malaria",
         "_deepnote_index_column": 3705
        },
        {
         "vomiting": 1,
         "redness_of_eyes": 0,
         "nausea": 1,
         "high_fever": 1,
         "difficulty_breathing": 0,
         "diarrhea": 0,
         "breathlessness": 0,
         "label": "malaria",
         "_deepnote_index_column": 3746
        },
        {
         "vomiting": 1,
         "redness_of_eyes": 0,
         "nausea": 1,
         "high_fever": 1,
         "difficulty_breathing": 0,
         "diarrhea": 0,
         "breathlessness": 0,
         "label": "malaria",
         "_deepnote_index_column": 3787
        },
        {
         "vomiting": 1,
         "redness_of_eyes": 0,
         "nausea": 1,
         "high_fever": 1,
         "difficulty_breathing": 0,
         "diarrhea": 0,
         "breathlessness": 0,
         "label": "malaria",
         "_deepnote_index_column": 3828
        },
        {
         "vomiting": 1,
         "redness_of_eyes": 0,
         "nausea": 1,
         "high_fever": 1,
         "difficulty_breathing": 0,
         "diarrhea": 0,
         "breathlessness": 0,
         "label": "malaria",
         "_deepnote_index_column": 3869
        },
        {
         "vomiting": 1,
         "redness_of_eyes": 0,
         "nausea": 1,
         "high_fever": 1,
         "difficulty_breathing": 0,
         "diarrhea": 0,
         "breathlessness": 0,
         "label": "malaria",
         "_deepnote_index_column": 3910
        },
        {
         "vomiting": 1,
         "redness_of_eyes": 0,
         "nausea": 1,
         "high_fever": 1,
         "difficulty_breathing": 0,
         "diarrhea": 0,
         "breathlessness": 0,
         "label": "malaria",
         "_deepnote_index_column": 3951
        },
        {
         "vomiting": 1,
         "redness_of_eyes": 0,
         "nausea": 1,
         "high_fever": 1,
         "difficulty_breathing": 0,
         "diarrhea": 0,
         "breathlessness": 0,
         "label": "malaria",
         "_deepnote_index_column": 3992
        },
        {
         "vomiting": 1,
         "redness_of_eyes": 0,
         "nausea": 1,
         "high_fever": 1,
         "difficulty_breathing": 0,
         "diarrhea": 0,
         "breathlessness": 0,
         "label": "malaria",
         "_deepnote_index_column": 4033
        },
        {
         "vomiting": 1,
         "redness_of_eyes": 0,
         "nausea": 1,
         "high_fever": 1,
         "difficulty_breathing": 0,
         "diarrhea": 0,
         "breathlessness": 0,
         "label": "malaria",
         "_deepnote_index_column": 4074
        },
        {
         "vomiting": 1,
         "redness_of_eyes": 0,
         "nausea": 1,
         "high_fever": 1,
         "difficulty_breathing": 0,
         "diarrhea": 0,
         "breathlessness": 0,
         "label": "malaria",
         "_deepnote_index_column": 4115
        },
        {
         "vomiting": 1,
         "redness_of_eyes": 0,
         "nausea": 1,
         "high_fever": 1,
         "difficulty_breathing": 0,
         "diarrhea": 0,
         "breathlessness": 0,
         "label": "malaria",
         "_deepnote_index_column": 4156
        },
        {
         "vomiting": 1,
         "redness_of_eyes": 0,
         "nausea": 1,
         "high_fever": 1,
         "difficulty_breathing": 0,
         "diarrhea": 0,
         "breathlessness": 0,
         "label": "malaria",
         "_deepnote_index_column": 4197
        },
        {
         "vomiting": 1,
         "redness_of_eyes": 0,
         "nausea": 1,
         "high_fever": 1,
         "difficulty_breathing": 0,
         "diarrhea": 0,
         "breathlessness": 0,
         "label": "malaria",
         "_deepnote_index_column": 4238
        },
        {
         "vomiting": 1,
         "redness_of_eyes": 0,
         "nausea": 1,
         "high_fever": 1,
         "difficulty_breathing": 0,
         "diarrhea": 0,
         "breathlessness": 0,
         "label": "malaria",
         "_deepnote_index_column": 4279
        },
        {
         "vomiting": 1,
         "redness_of_eyes": 0,
         "nausea": 1,
         "high_fever": 1,
         "difficulty_breathing": 0,
         "diarrhea": 0,
         "breathlessness": 0,
         "label": "malaria",
         "_deepnote_index_column": 4320
        },
        {
         "vomiting": 1,
         "redness_of_eyes": 0,
         "nausea": 1,
         "high_fever": 1,
         "difficulty_breathing": 0,
         "diarrhea": 0,
         "breathlessness": 0,
         "label": "malaria",
         "_deepnote_index_column": 4361
        },
        {
         "vomiting": 1,
         "redness_of_eyes": 0,
         "nausea": 1,
         "high_fever": 1,
         "difficulty_breathing": 0,
         "diarrhea": 0,
         "breathlessness": 0,
         "label": "malaria",
         "_deepnote_index_column": 4402
        },
        {
         "vomiting": 1,
         "redness_of_eyes": 0,
         "nausea": 1,
         "high_fever": 1,
         "difficulty_breathing": 0,
         "diarrhea": 0,
         "breathlessness": 0,
         "label": "malaria",
         "_deepnote_index_column": 4443
        },
        {
         "vomiting": 1,
         "redness_of_eyes": 0,
         "nausea": 1,
         "high_fever": 1,
         "difficulty_breathing": 0,
         "diarrhea": 0,
         "breathlessness": 0,
         "label": "malaria",
         "_deepnote_index_column": 4484
        },
        {
         "vomiting": 1,
         "redness_of_eyes": 0,
         "nausea": 1,
         "high_fever": 1,
         "difficulty_breathing": 0,
         "diarrhea": 0,
         "breathlessness": 0,
         "label": "malaria",
         "_deepnote_index_column": 4525
        },
        {
         "vomiting": 1,
         "redness_of_eyes": 0,
         "nausea": 1,
         "high_fever": 1,
         "difficulty_breathing": 0,
         "diarrhea": 0,
         "breathlessness": 0,
         "label": "malaria",
         "_deepnote_index_column": 4566
        },
        {
         "vomiting": 1,
         "redness_of_eyes": 0,
         "nausea": 1,
         "high_fever": 1,
         "difficulty_breathing": 0,
         "diarrhea": 0,
         "breathlessness": 0,
         "label": "malaria",
         "_deepnote_index_column": 4607
        },
        {
         "vomiting": 1,
         "redness_of_eyes": 0,
         "nausea": 1,
         "high_fever": 1,
         "difficulty_breathing": 0,
         "diarrhea": 0,
         "breathlessness": 0,
         "label": "malaria",
         "_deepnote_index_column": 4648
        },
        {
         "vomiting": 1,
         "redness_of_eyes": 0,
         "nausea": 1,
         "high_fever": 1,
         "difficulty_breathing": 0,
         "diarrhea": 0,
         "breathlessness": 0,
         "label": "malaria",
         "_deepnote_index_column": 4689
        },
        {
         "vomiting": 1,
         "redness_of_eyes": 0,
         "nausea": 1,
         "high_fever": 1,
         "difficulty_breathing": 0,
         "diarrhea": 0,
         "breathlessness": 0,
         "label": "malaria",
         "_deepnote_index_column": 4730
        },
        {
         "vomiting": 1,
         "redness_of_eyes": 0,
         "nausea": 1,
         "high_fever": 1,
         "difficulty_breathing": 0,
         "diarrhea": 0,
         "breathlessness": 0,
         "label": "malaria",
         "_deepnote_index_column": 4771
        },
        {
         "vomiting": 1,
         "redness_of_eyes": 0,
         "nausea": 1,
         "high_fever": 1,
         "difficulty_breathing": 0,
         "diarrhea": 0,
         "breathlessness": 0,
         "label": "malaria",
         "_deepnote_index_column": 4812
        },
        {
         "vomiting": 1,
         "redness_of_eyes": 0,
         "nausea": 1,
         "high_fever": 1,
         "difficulty_breathing": 0,
         "diarrhea": 0,
         "breathlessness": 0,
         "label": "malaria",
         "_deepnote_index_column": 4853
        },
        {
         "vomiting": 1,
         "redness_of_eyes": 0,
         "nausea": 1,
         "high_fever": 1,
         "difficulty_breathing": 0,
         "diarrhea": 0,
         "breathlessness": 0,
         "label": "malaria",
         "_deepnote_index_column": 4894
        }
       ],
       "rows_bottom": null
      },
      "text/plain": "      vomiting  redness_of_eyes  nausea  high_fever  difficulty_breathing  \\\n150          1                0       1           1                   0.0   \n151          1                0       1           1                   0.0   \n152          1                0       1           1                   0.0   \n153          1                0       1           1                   0.0   \n154          0                0       1           1                   0.0   \n...        ...              ...     ...         ...                   ...   \n4730         1                0       1           1                   0.0   \n4771         1                0       1           1                   0.0   \n4812         1                0       1           1                   0.0   \n4853         1                0       1           1                   0.0   \n4894         1                0       1           1                   0.0   \n\n      diarrhea  breathlessness    label  \n150        0.0               0  malaria  \n151        0.0               0  malaria  \n152        0.0               0  malaria  \n153        0.0               0  malaria  \n154        0.0               0  malaria  \n...        ...             ...      ...  \n4730       0.0               0  malaria  \n4771       0.0               0  malaria  \n4812       0.0               0  malaria  \n4853       0.0               0  malaria  \n4894       0.0               0  malaria  \n\n[120 rows x 8 columns]",
      "text/html": "<div>\n<style scoped>\n    .dataframe tbody tr th:only-of-type {\n        vertical-align: middle;\n    }\n\n    .dataframe tbody tr th {\n        vertical-align: top;\n    }\n\n    .dataframe thead th {\n        text-align: right;\n    }\n</style>\n<table border=\"1\" class=\"dataframe\">\n  <thead>\n    <tr style=\"text-align: right;\">\n      <th></th>\n      <th>vomiting</th>\n      <th>redness_of_eyes</th>\n      <th>nausea</th>\n      <th>high_fever</th>\n      <th>difficulty_breathing</th>\n      <th>diarrhea</th>\n      <th>breathlessness</th>\n      <th>label</th>\n    </tr>\n  </thead>\n  <tbody>\n    <tr>\n      <th>150</th>\n      <td>1</td>\n      <td>0</td>\n      <td>1</td>\n      <td>1</td>\n      <td>0.0</td>\n      <td>0.0</td>\n      <td>0</td>\n      <td>malaria</td>\n    </tr>\n    <tr>\n      <th>151</th>\n      <td>1</td>\n      <td>0</td>\n      <td>1</td>\n      <td>1</td>\n      <td>0.0</td>\n      <td>0.0</td>\n      <td>0</td>\n      <td>malaria</td>\n    </tr>\n    <tr>\n      <th>152</th>\n      <td>1</td>\n      <td>0</td>\n      <td>1</td>\n      <td>1</td>\n      <td>0.0</td>\n      <td>0.0</td>\n      <td>0</td>\n      <td>malaria</td>\n    </tr>\n    <tr>\n      <th>153</th>\n      <td>1</td>\n      <td>0</td>\n      <td>1</td>\n      <td>1</td>\n      <td>0.0</td>\n      <td>0.0</td>\n      <td>0</td>\n      <td>malaria</td>\n    </tr>\n    <tr>\n      <th>154</th>\n      <td>0</td>\n      <td>0</td>\n      <td>1</td>\n      <td>1</td>\n      <td>0.0</td>\n      <td>0.0</td>\n      <td>0</td>\n      <td>malaria</td>\n    </tr>\n    <tr>\n      <th>...</th>\n      <td>...</td>\n      <td>...</td>\n      <td>...</td>\n      <td>...</td>\n      <td>...</td>\n      <td>...</td>\n      <td>...</td>\n      <td>...</td>\n    </tr>\n    <tr>\n      <th>4730</th>\n      <td>1</td>\n      <td>0</td>\n      <td>1</td>\n      <td>1</td>\n      <td>0.0</td>\n      <td>0.0</td>\n      <td>0</td>\n      <td>malaria</td>\n    </tr>\n    <tr>\n      <th>4771</th>\n      <td>1</td>\n      <td>0</td>\n      <td>1</td>\n      <td>1</td>\n      <td>0.0</td>\n      <td>0.0</td>\n      <td>0</td>\n      <td>malaria</td>\n    </tr>\n    <tr>\n      <th>4812</th>\n      <td>1</td>\n      <td>0</td>\n      <td>1</td>\n      <td>1</td>\n      <td>0.0</td>\n      <td>0.0</td>\n      <td>0</td>\n      <td>malaria</td>\n    </tr>\n    <tr>\n      <th>4853</th>\n      <td>1</td>\n      <td>0</td>\n      <td>1</td>\n      <td>1</td>\n      <td>0.0</td>\n      <td>0.0</td>\n      <td>0</td>\n      <td>malaria</td>\n    </tr>\n    <tr>\n      <th>4894</th>\n      <td>1</td>\n      <td>0</td>\n      <td>1</td>\n      <td>1</td>\n      <td>0.0</td>\n      <td>0.0</td>\n      <td>0</td>\n      <td>malaria</td>\n    </tr>\n  </tbody>\n</table>\n<p>120 rows × 8 columns</p>\n</div>"
     },
     "metadata": {}
    }
   ],
   "execution_count": 37
  },
  {
   "cell_type": "code",
   "metadata": {
    "tags": [],
    "cell_id": "00024-7774fcbe-a011-492a-8762-1d44023e4342",
    "deepnote_to_be_reexecuted": false,
    "source_hash": "d887c901",
    "execution_start": 1636910331550,
    "execution_millis": 11836669,
    "deepnote_cell_type": "code"
   },
   "source": "X_rt = retrain_df.drop('label',axis = 1)\ny_rt = retrain_df['label']",
   "outputs": [],
   "execution_count": 38
  },
  {
   "cell_type": "code",
   "metadata": {
    "tags": [],
    "cell_id": "00023-3fdf704e-20e1-47fd-88c7-8bf1b135d86d",
    "deepnote_to_be_reexecuted": false,
    "source_hash": "80659ac7",
    "execution_start": 1636910331883,
    "execution_millis": 1938,
    "deepnote_cell_type": "code"
   },
   "source": "\nfrom sklearn.model_selection import train_test_split\nx_train_rt, x_test_rt, y_train_rt, y_test_rt = train_test_split(X_rt, y_rt, test_size=0.2, random_state=32)\n\n\n\nrfc_rt = RandomForestClassifier()\nrfc_rt.fit(x_train_rt, y_train_rt)\n\n",
   "outputs": [
    {
     "output_type": "execute_result",
     "execution_count": 39,
     "data": {
      "text/plain": "RandomForestClassifier()"
     },
     "metadata": {}
    }
   ],
   "execution_count": 39
  },
  {
   "cell_type": "code",
   "metadata": {
    "tags": [],
    "cell_id": "00026-64e39afb-d05b-40c8-b3a3-240fb2ae417a",
    "deepnote_to_be_reexecuted": false,
    "source_hash": "2efdcf8a",
    "execution_start": 1636910336041,
    "execution_millis": 1797,
    "deepnote_cell_type": "code"
   },
   "source": "from sklearn import metrics\nfrom sklearn.metrics import accuracy_score\n\n\nresult_rt_train = rfc_rt.predict(x_train_rt)\n\nprint('Train accuracy = {}'.format(\n        accuracy_score(result_rt_train , y_train_rt) * 100)\n     )\n\n\nresult_rt_test = rfc_rt.predict(x_test_rt)\n\nprint('Test accuracy = {}'.format(\n        accuracy_score(result_rt_test, y_test_rt) * 100)\n     )\n",
   "outputs": [
    {
     "name": "stdout",
     "text": "Train accuracy = 84.31312977872297\nTest accuracy = 84.78987341772152\n",
     "output_type": "stream"
    }
   ],
   "execution_count": 40
  },
  {
   "cell_type": "code",
   "metadata": {
    "tags": [],
    "cell_id": "00035-4d5f76a4-ac5d-435e-b512-e03e5c34d8e1",
    "deepnote_to_be_reexecuted": false,
    "source_hash": "b04336ea",
    "execution_start": 1636902127911,
    "execution_millis": 1,
    "deepnote_cell_type": "code"
   },
   "source": "from sklearn.model_selection import RandomizedSearchCV\n# Number of trees in random forest\nn_estimators = [int(x) for x in np.linspace(start = 200, stop = 2000, num = 10)]\n# Number of features to consider at every split\nmax_features = ['auto', 'sqrt']\n# Maximum number of levels in tree\nmax_depth = [int(x) for x in np.linspace(10, 110, num = 11)]\nmax_depth.append(None)\n# Minimum number of samples required to split a node\nmin_samples_split = [2, 5, 10]\n# Minimum number of samples required at each leaf node\nmin_samples_leaf = [1, 2, 4]\n# Method of selecting samples for training each tree\nbootstrap = [True, False]\n# Create the random grid\nrandom_grid = {'n_estimators': n_estimators,\n               'max_features': max_features,\n               'max_depth': max_depth,\n               'min_samples_split': min_samples_split,\n               'min_samplesx_leaf': min_samples_leaf,\n               'bootstrap': bootstrap}",
   "outputs": [],
   "execution_count": null
  },
  {
   "cell_type": "code",
   "metadata": {
    "tags": [],
    "cell_id": "00036-408d7c4d-33fc-4da7-8ea5-cbfb58498362",
    "deepnote_to_be_reexecuted": false,
    "source_hash": "b623e53d",
    "execution_start": 1636904835745,
    "execution_millis": 11,
    "deepnote_cell_type": "code"
   },
   "source": "",
   "outputs": [],
   "execution_count": null
  },
  {
   "cell_type": "markdown",
   "source": "sgd classifier",
   "metadata": {
    "tags": [],
    "cell_id": "00049-b079f8e2-7f57-4aa9-a961-f3ea9678d981",
    "deepnote_cell_type": "markdown"
   }
  },
  {
   "cell_type": "code",
   "metadata": {
    "tags": [],
    "cell_id": "00034-95425af9-c2fc-4dab-b103-47f02944d775",
    "deepnote_to_be_reexecuted": false,
    "source_hash": "9e6873b8",
    "execution_start": 1636910347596,
    "execution_millis": 4020,
    "deepnote_cell_type": "code"
   },
   "source": "\n\nfrom sklearn.linear_model import SGDClassifier\nsgdc = SGDClassifier(loss=\"hinge\", penalty=\"l1\", max_iter=10)\nsgdc.fit(x_train, y_train)",
   "outputs": [
    {
     "name": "stderr",
     "text": "/shared-libs/python3.7/py/lib/python3.7/site-packages/sklearn/linear_model/_stochastic_gradient.py:700: ConvergenceWarning: Maximum number of iteration reached before convergence. Consider increasing max_iter to improve the fit.\n  ConvergenceWarning,\n",
     "output_type": "stream"
    },
    {
     "output_type": "execute_result",
     "execution_count": 41,
     "data": {
      "text/plain": "SGDClassifier(max_iter=10, penalty='l1')"
     },
     "metadata": {}
    }
   ],
   "execution_count": 41
  },
  {
   "cell_type": "code",
   "metadata": {
    "tags": [],
    "cell_id": "00038-da30d299-02b5-4017-8696-afadfa4f146f",
    "deepnote_to_be_reexecuted": false,
    "source_hash": "778764af",
    "execution_start": 1636910369927,
    "execution_millis": 1158,
    "deepnote_cell_type": "code"
   },
   "source": "sgd_train = sgdc.predict(x_train)\n\nprint('Train accuracy = {}'.format(\n        accuracy_score(sgd_train , y_train) * 100)\n     )\nf1_score = metrics.f1_score(sgd_train, y_train, average='weighted')\nprint(' F1 Train classification score: {}'.format(f1_score* 100))\n\nsgd_test= sgdc.predict(x_test)\n\nprint('Test accuracy = {}'.format(\n        accuracy_score(sgd_test, y_test) * 100)\n     )\nf1_score = metrics.f1_score(sgd_test, y_test, average='weighted')\nprint(' F1 Test classification score: {}'.format(f1_score* 100))",
   "outputs": [
    {
     "name": "stdout",
     "text": "Train accuracy = 88.2601650716492\n F1 Train classification score: 92.0246144175505\nTest accuracy = 88.21265822784811\n F1 Test classification score: 91.84853279855922\n",
     "output_type": "stream"
    }
   ],
   "execution_count": 43
  },
  {
   "cell_type": "markdown",
   "source": "Gradient Boosting classifier",
   "metadata": {
    "tags": [],
    "cell_id": "00052-b6aa1149-2b38-44c7-9d75-cb76206c7bbe",
    "deepnote_cell_type": "markdown"
   }
  },
  {
   "cell_type": "code",
   "metadata": {
    "tags": [],
    "cell_id": "00039-f0799c95-9ec3-4770-a29f-ae7eb8c475a9",
    "deepnote_to_be_reexecuted": false,
    "source_hash": "10e7454e",
    "execution_start": 1636910905485,
    "execution_millis": 511538,
    "deepnote_cell_type": "code"
   },
   "source": "from sklearn.datasets import make_hastie_10_2\nfrom sklearn.ensemble import GradientBoostingClassifier\n\nclf = GradientBoostingClassifier(n_estimators=100, learning_rate=0.1,\n max_depth=1, random_state=32).fit(x_train, y_train)\n",
   "outputs": [
    {
     "output_type": "execute_result",
     "execution_count": 47,
     "data": {
      "text/plain": "0.884930882576333"
     },
     "metadata": {}
    }
   ],
   "execution_count": 47
  },
  {
   "cell_type": "code",
   "metadata": {
    "tags": [],
    "cell_id": "00054-c2086f1e-f71a-43f8-bc28-971ea71e04ab",
    "deepnote_to_be_reexecuted": false,
    "source_hash": "ebfbca7b",
    "execution_start": 1636911556619,
    "execution_millis": 8177,
    "deepnote_cell_type": "code"
   },
   "source": "clf_train = clf.predict(x_train)\n\nprint('Train accuracy = {}'.format(\n        accuracy_score(clf_train , y_train) * 100)\n     )\nf1_score = metrics.f1_score(clf_train, y_train, average='weighted')\nprint(' F1 Train classification score: {}'.format(f1_score* 100))\n\nclf_test= clf.predict(x_test)\n\nprint('Test accuracy = {}'.format(\n        accuracy_score(clf_test, y_test) * 100)\n     )\nf1_score = metrics.f1_score(clf_test, y_test, average='weighted')\nprint(' F1 Test classification score: {}'.format(f1_score* 100))",
   "outputs": [
    {
     "name": "stdout",
     "text": "Train accuracy = 88.4930882576333\n F1 Train classification score: 92.66631800991091\nTest accuracy = 88.41518987341772\n F1 Test classification score: 92.52590498327555\n",
     "output_type": "stream"
    }
   ],
   "execution_count": 50
  },
  {
   "cell_type": "markdown",
   "source": "Decision Tree Classifier",
   "metadata": {
    "tags": [],
    "cell_id": "00054-5554d1d8-e35c-433a-be67-896760719dc4",
    "deepnote_cell_type": "markdown"
   }
  },
  {
   "cell_type": "code",
   "metadata": {
    "tags": [],
    "cell_id": "00040-29e9f0bc-2e2d-4d63-8d8a-9e95a4375781",
    "deepnote_to_be_reexecuted": false,
    "source_hash": "a5bceeb3",
    "execution_start": 1636911512805,
    "execution_millis": 990,
    "deepnote_cell_type": "code"
   },
   "source": "\nfrom sklearn.tree import DecisionTreeClassifier\nclfd = DecisionTreeClassifier(random_state=32)\nclfd.fit(x_train, y_train)\n",
   "outputs": [
    {
     "output_type": "execute_result",
     "execution_count": 49,
     "data": {
      "text/plain": "0.8949060711934782"
     },
     "metadata": {}
    }
   ],
   "execution_count": 49
  },
  {
   "cell_type": "code",
   "metadata": {
    "tags": [],
    "cell_id": "00057-6020986f-f1b9-4af1-b1a8-8450bd5426ee",
    "deepnote_to_be_reexecuted": false,
    "source_hash": "e735e790",
    "execution_start": 1636911669849,
    "execution_millis": 1054,
    "deepnote_cell_type": "code"
   },
   "source": "clfd_train = clfd.predict(x_train)\n\nprint('Train accuracy = {}'.format(\n        accuracy_score(clfd_train , y_train) * 100)\n     )\nf1_score = metrics.f1_score(clfd_train, y_train, average='weighted')\nprint(' F1 Train classification score: {}'.format(f1_score* 100))\n\nclfd_test= clfd.predict(x_test)\n\nprint('Test accuracy = {}'.format(\n        accuracy_score(clfd_test, y_test) * 100)\n     )\nf1_score = metrics.f1_score(clfd_test, y_test, average='weighted')\nprint(' F1 Test classification score: {}'.format(f1_score* 100))",
   "outputs": [
    {
     "name": "stdout",
     "text": "Train accuracy = 89.49060711934781\n F1 Train classification score: 90.8626548825053\nTest accuracy = 86.8253164556962\n F1 Test classification score: 88.20589566889909\n",
     "output_type": "stream"
    }
   ],
   "execution_count": 52
  },
  {
   "cell_type": "code",
   "metadata": {
    "tags": [],
    "cell_id": "00056-f4c54662-3ba0-4063-baae-dc85a5b507c5",
    "deepnote_cell_type": "code"
   },
   "source": "",
   "execution_count": null,
   "outputs": []
  },
  {
   "cell_type": "markdown",
   "source": "### Export model",
   "metadata": {
    "tags": [],
    "cell_id": "00057-093cd1b5-8128-4695-85f6-f490dec01499",
    "deepnote_cell_type": "markdown"
   }
  },
  {
   "cell_type": "code",
   "metadata": {
    "tags": [],
    "cell_id": "00041-744f554a-548f-4a60-b546-f4cdf611e8af",
    "deepnote_to_be_reexecuted": false,
    "source_hash": "412b4911",
    "execution_start": 1636911701112,
    "execution_millis": 1220,
    "deepnote_cell_type": "code"
   },
   "source": "\nimport pickle\nfrom joblib import dump, load \n \n\ndump(clf, \"gbmodel.joblib.dat\")",
   "outputs": [
    {
     "output_type": "execute_result",
     "execution_count": 53,
     "data": {
      "text/plain": "['gbmodel.joblib.dat']"
     },
     "metadata": {}
    }
   ],
   "execution_count": 53
  },
  {
   "cell_type": "code",
   "metadata": {
    "tags": [],
    "cell_id": "00042-983c60d4-2ef3-4983-a2f1-388621bcd95e",
    "deepnote_to_be_reexecuted": false,
    "source_hash": "b623e53d",
    "execution_start": 1636901938751,
    "execution_millis": 1,
    "deepnote_cell_type": "code"
   },
   "source": "",
   "outputs": [],
   "execution_count": null
  },
  {
   "cell_type": "code",
   "metadata": {
    "tags": [],
    "cell_id": "00043-c08da1af-828c-4918-859a-2a4ebbcf91b1",
    "deepnote_cell_type": "code"
   },
   "source": "",
   "execution_count": null,
   "outputs": []
  },
  {
   "cell_type": "markdown",
   "source": "<a style='text-decoration:none;line-height:16px;display:flex;color:#5B5B62;padding:10px;justify-content:end;' href='https://deepnote.com?utm_source=created-in-deepnote-cell&projectId=1b0770af-dab9-475b-b419-2a7c23121b4f' target=\"_blank\">\n<img alt='Created in deepnote.com' style='display:inline;max-height:16px;margin:0px;margin-right:7.5px;' src='data:image/svg+xml;base64,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' > </img>\nCreated in <span style='font-weight:600;margin-left:4px;'>Deepnote</span></a>",
   "metadata": {
    "tags": [],
    "created_in_deepnote_cell": true,
    "deepnote_cell_type": "markdown"
   }
  }
 ],
 "nbformat": 4,
 "nbformat_minor": 2,
 "metadata": {
  "orig_nbformat": 2,
  "deepnote": {
   "is_reactive": false
  },
  "deepnote_notebook_id": "d73349fd-2981-4d43-b41f-35c6f96188d3",
  "deepnote_execution_queue": []
 }
}